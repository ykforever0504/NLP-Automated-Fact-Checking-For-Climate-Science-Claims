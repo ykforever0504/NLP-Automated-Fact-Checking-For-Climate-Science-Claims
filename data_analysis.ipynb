{
 "cells": [
  {
   "cell_type": "code",
   "execution_count": 2,
   "id": "a87dd959-49a2-4951-8cad-1fa8a172531f",
   "metadata": {},
   "outputs": [],
   "source": [
    "import json"
   ]
  },
  {
   "cell_type": "code",
   "execution_count": 30,
   "id": "7558424d-d798-47c6-8386-13322ea50e98",
   "metadata": {},
   "outputs": [
    {
     "name": "stdout",
     "output_type": "stream",
     "text": [
      "#evidences retrieval 1208827\n",
      "evidence max token length 479\n",
      "evidence min token length 1\n",
      "evidence length over 64 percentage 0.0032\n"
     ]
    }
   ],
   "source": [
    "#load evidence data\n",
    "f = open('data/evidence.json','r')\n",
    "evidence_data = json.load(f)\n",
    "token_num = list()\n",
    "max_token_num = 64\n",
    "over_num = 0\n",
    "for (evidence_id ,evidence_text) in evidence_data.items():\n",
    "    evidence_token_num = len(evidence_text.split())\n",
    "    token_num.append(evidence_token_num)\n",
    "    if evidence_token_num > max_token_num:\n",
    "        over_num += 1\n",
    "print(\"#evidences retrieval\", len(token_num))\n",
    "print(\"evidence max token length\", max(token_num))\n",
    "print(\"evidence min token length\", min(token_num))\n",
    "print(\"evidence length over %s percentage\"%(max_token_num), round(over_num/len(token_num),4))"
   ]
  },
  {
   "cell_type": "code",
   "execution_count": 33,
   "id": "75b36921-10d6-40b1-913a-58a252af22ac",
   "metadata": {},
   "outputs": [
    {
     "name": "stdout",
     "output_type": "stream",
     "text": [
      "#train_claim 1228\n",
      "claim_text:\n",
      "train_claim max token length 67\n",
      "train_claim min token length 4\n",
      "train_claim length over 64 percentage 0.0008\n",
      "claim_label:\n",
      "DISPUTED percentage: 0.1\n",
      "REFUTES percentage: 0.16\n",
      "SUPPORTS percentage: 0.42\n",
      "NOT_ENOUGH_INFO percentage: 0.31\n",
      "evidence:\n",
      "evidence max number 5\n",
      "evidence min number 1\n",
      "evidence mean number 3.3566775244299674\n"
     ]
    }
   ],
   "source": [
    "#load train_claim data\n",
    "f = open('data/train-claims.json','r')\n",
    "train_claim_data = json.load(f)\n",
    "f.close()\n",
    "#claim_text\n",
    "token_num = list()\n",
    "max_token_num = 64\n",
    "over_num = 0\n",
    "#claim_label\n",
    "label_dict = dict()\n",
    "#evidence\n",
    "evidences_num_list = list()\n",
    "for (claim_id ,claim_content) in train_claim_data.items():\n",
    "    claim_text, claim_label, evidences = claim_content['claim_text'], claim_content['claim_label'], claim_content['evidences']\n",
    "    #claim_text\n",
    "    claim_token_num = len(claim_text.split())\n",
    "    token_num.append(claim_token_num)\n",
    "    if claim_token_num > max_token_num:\n",
    "        over_num += 1\n",
    "    #claim_label\n",
    "    label_dict[claim_label] = label_dict.get(claim_label, 0) + 1\n",
    "    #evidence\n",
    "    evidence_num = len(evidences)\n",
    "    evidences_num_list.append(evidence_num)\n",
    "total_num = len(token_num)\n",
    "print(\"#train_claim\", total_num)\n",
    "#claim_text\n",
    "print(\"claim_text:\")\n",
    "print(\"train_claim max token length\", max(token_num))\n",
    "print(\"train_claim min token length\", min(token_num))\n",
    "print(\"train_claim length over %s percentage\"%(max_token_num), round(over_num/total_num,4))\n",
    "#claim_label\n",
    "print(\"claim_label:\")\n",
    "for label,num in label_dict.items():\n",
    "    print(label, \"percentage:\", round(num/total_num,2))\n",
    "#evidence\n",
    "print(\"evidence:\")\n",
    "print(\"evidence max number\", max(evidences_num_list))\n",
    "print(\"evidence min number\", min(evidences_num_list))\n",
    "print(\"evidence mean number\", sum(evidences_num_list)/total_num)"
   ]
  },
  {
   "cell_type": "code",
   "execution_count": 34,
   "id": "3e7aedde-f41c-4c96-926a-3c365210a928",
   "metadata": {},
   "outputs": [
    {
     "name": "stdout",
     "output_type": "stream",
     "text": [
      "#dev_claim 154\n",
      "claim_text:\n",
      "dev_claim max token length 65\n",
      "dev_claim min token length 4\n",
      "dev_claim length over 64 percentage 0.0065\n",
      "claim_label:\n",
      "SUPPORTS percentage: 0.44\n",
      "NOT_ENOUGH_INFO percentage: 0.27\n",
      "REFUTES percentage: 0.18\n",
      "DISPUTED percentage: 0.12\n",
      "evidence:\n",
      "evidence max number 5\n",
      "evidence min number 1\n",
      "evidence mean number 3.188311688311688\n"
     ]
    }
   ],
   "source": [
    "#load dev_claim data\n",
    "f = open('data/dev-claims.json','r')\n",
    "dev_claim_data = json.load(f)\n",
    "f.close()\n",
    "#claim_text\n",
    "token_num = list()\n",
    "max_token_num = 64\n",
    "over_num = 0\n",
    "#claim_label\n",
    "label_dict = dict()\n",
    "#evidence\n",
    "evidences_num_list = list()\n",
    "for (claim_id ,claim_content) in dev_claim_data.items():\n",
    "    claim_text, claim_label, evidences = claim_content['claim_text'], claim_content['claim_label'], claim_content['evidences']\n",
    "    #claim_text\n",
    "    claim_token_num = len(claim_text.split())\n",
    "    token_num.append(claim_token_num)\n",
    "    if claim_token_num > max_token_num:\n",
    "        over_num += 1\n",
    "    #claim_label\n",
    "    label_dict[claim_label] = label_dict.get(claim_label, 0) + 1\n",
    "    #evidence\n",
    "    evidence_num = len(evidences)\n",
    "    evidences_num_list.append(evidence_num)\n",
    "total_num = len(token_num)\n",
    "print(\"#dev_claim\", total_num)\n",
    "#claim_text\n",
    "print(\"claim_text:\")\n",
    "print(\"dev_claim max token length\", max(token_num))\n",
    "print(\"dev_claim min token length\", min(token_num))\n",
    "print(\"dev_claim length over %s percentage\"%(max_token_num), round(over_num/total_num,4))\n",
    "#claim_label\n",
    "print(\"claim_label:\")\n",
    "for label,num in label_dict.items():\n",
    "    print(label, \"percentage:\", round(num/total_num,2))\n",
    "#evidence\n",
    "print(\"evidence:\")\n",
    "print(\"evidence max number\", max(evidences_num_list))\n",
    "print(\"evidence min number\", min(evidences_num_list))\n",
    "print(\"evidence mean number\", sum(evidences_num_list)/total_num)"
   ]
  },
  {
   "cell_type": "code",
   "execution_count": 7,
   "id": "ff7daf14-5fb0-4b77-86ec-3f3efd2e20f9",
   "metadata": {},
   "outputs": [
    {
     "name": "stdout",
     "output_type": "stream",
     "text": [
      "#test claim 153\n",
      "claim_text:\n",
      "test_claim max token length 53\n",
      "test_claim min token length 4\n",
      "test_claim length over 64 percentage 0.0\n"
     ]
    }
   ],
   "source": [
    "#load dev_claim data\n",
    "f = open('data/test-claims-unlabelled.json','r')\n",
    "test_claim_data = json.load(f)\n",
    "f.close()\n",
    "print(\"#test claim\",len(test_claim_data.keys()))\n",
    "#claim_text\n",
    "token_num = list()\n",
    "max_token_num = 64\n",
    "over_num = 0\n",
    "for (claim_id ,claim_content) in test_claim_data.items():\n",
    "    claim_text= claim_content['claim_text']\n",
    "    #claim_text\n",
    "    claim_token_num = len(claim_text.split())\n",
    "    token_num.append(claim_token_num)\n",
    "    if claim_token_num > max_token_num:\n",
    "        over_num += 1\n",
    "total_num = len(token_num)\n",
    "#claim_text\n",
    "print(\"claim_text:\")\n",
    "print(\"test_claim max token length\", max(token_num))\n",
    "print(\"test_claim min token length\", min(token_num))\n",
    "print(\"test_claim length over %s percentage\"%(max_token_num), round(over_num/total_num,4))"
   ]
  }
 ],
 "metadata": {
  "kernelspec": {
   "display_name": "Python 3 (ipykernel)",
   "language": "python",
   "name": "python3"
  },
  "language_info": {
   "codemirror_mode": {
    "name": "ipython",
    "version": 3
   },
   "file_extension": ".py",
   "mimetype": "text/x-python",
   "name": "python",
   "nbconvert_exporter": "python",
   "pygments_lexer": "ipython3",
   "version": "3.8.10"
  }
 },
 "nbformat": 4,
 "nbformat_minor": 5
}
